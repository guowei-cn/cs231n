{
 "cells": [
  {
   "cell_type": "markdown",
   "metadata": {
    "tags": [
     "pdf-title"
    ]
   },
   "source": [
    "# Implementing a Neural Network\n",
    "In this exercise we will develop a neural network with fully-connected layers to perform classification, and test it out on the CIFAR-10 dataset."
   ]
  },
  {
   "cell_type": "code",
   "execution_count": 1,
   "metadata": {
    "tags": [
     "pdf-ignore"
    ]
   },
   "outputs": [],
   "source": [
    "# A bit of setup\n",
    "\n",
    "import numpy as np\n",
    "import matplotlib.pyplot as plt\n",
    "\n",
    "from cs231n.classifiers.neural_net import TwoLayerNet\n",
    "\n",
    "%matplotlib inline\n",
    "plt.rcParams['figure.figsize'] = (10.0, 8.0) # set default size of plots\n",
    "plt.rcParams['image.interpolation'] = 'nearest'\n",
    "plt.rcParams['image.cmap'] = 'gray'\n",
    "\n",
    "# for auto-reloading external modules\n",
    "# see http://stackoverflow.com/questions/1907993/autoreload-of-modules-in-ipython\n",
    "%load_ext autoreload\n",
    "%autoreload 2\n",
    "\n",
    "def rel_error(x, y):\n",
    "    \"\"\" returns relative error \"\"\"\n",
    "    return np.max(np.abs(x - y) / (np.maximum(1e-8, np.abs(x) + np.abs(y))))"
   ]
  },
  {
   "cell_type": "markdown",
   "metadata": {
    "tags": [
     "pdf-ignore"
    ]
   },
   "source": [
    "We will use the class `TwoLayerNet` in the file `cs231n/classifiers/neural_net.py` to represent instances of our network. The network parameters are stored in the instance variable `self.params` where keys are string parameter names and values are numpy arrays. Below, we initialize toy data and a toy model that we will use to develop your implementation."
   ]
  },
  {
   "cell_type": "code",
   "execution_count": 2,
   "metadata": {
    "tags": [
     "pdf-ignore"
    ]
   },
   "outputs": [],
   "source": [
    "# Create a small net and some toy data to check your implementations.\n",
    "# Note that we set the random seed for repeatable experiments.\n",
    "\n",
    "input_size = 4\n",
    "hidden_size = 10\n",
    "num_classes = 3\n",
    "num_inputs = 5\n",
    "\n",
    "def init_toy_model():\n",
    "    np.random.seed(0)\n",
    "    return TwoLayerNet(input_size, hidden_size, num_classes, std=1e-1)\n",
    "\n",
    "def init_toy_data():\n",
    "    np.random.seed(1)\n",
    "    X = 10 * np.random.randn(num_inputs, input_size)\n",
    "    y = np.array([0, 1, 2, 2, 1])\n",
    "    return X, y\n",
    "\n",
    "net = init_toy_model()\n",
    "X, y = init_toy_data()"
   ]
  },
  {
   "cell_type": "markdown",
   "metadata": {},
   "source": [
    "# Forward pass: compute scores\n",
    "Open the file `cs231n/classifiers/neural_net.py` and look at the method `TwoLayerNet.loss`. This function is very similar to the loss functions you have written for the SVM and Softmax exercises: It takes the data and weights and computes the class scores, the loss, and the gradients on the parameters. \n",
    "\n",
    "Implement the first part of the forward pass which uses the weights and biases to compute the scores for all inputs."
   ]
  },
  {
   "cell_type": "code",
   "execution_count": 3,
   "metadata": {},
   "outputs": [
    {
     "name": "stdout",
     "output_type": "stream",
     "text": [
      "Your scores:\n",
      "[[-0.81233741 -1.27654624 -0.70335995]\n",
      " [-0.17129677 -1.18803311 -0.47310444]\n",
      " [-0.51590475 -1.01354314 -0.8504215 ]\n",
      " [-0.15419291 -0.48629638 -0.52901952]\n",
      " [-0.00618733 -0.12435261 -0.15226949]]\n",
      "\n",
      "correct scores:\n",
      "[[-0.81233741 -1.27654624 -0.70335995]\n",
      " [-0.17129677 -1.18803311 -0.47310444]\n",
      " [-0.51590475 -1.01354314 -0.8504215 ]\n",
      " [-0.15419291 -0.48629638 -0.52901952]\n",
      " [-0.00618733 -0.12435261 -0.15226949]]\n",
      "\n",
      "Difference between your scores and correct scores:\n",
      "3.6802720496109664e-08\n"
     ]
    }
   ],
   "source": [
    "scores = net.loss(X)\n",
    "print('Your scores:')\n",
    "print(scores)\n",
    "print()\n",
    "print('correct scores:')\n",
    "correct_scores = np.asarray([\n",
    "  [-0.81233741, -1.27654624, -0.70335995],\n",
    "  [-0.17129677, -1.18803311, -0.47310444],\n",
    "  [-0.51590475, -1.01354314, -0.8504215 ],\n",
    "  [-0.15419291, -0.48629638, -0.52901952],\n",
    "  [-0.00618733, -0.12435261, -0.15226949]])\n",
    "print(correct_scores)\n",
    "print()\n",
    "\n",
    "# The difference should be very small. We get < 1e-7\n",
    "print('Difference between your scores and correct scores:')\n",
    "print(np.sum(np.abs(scores - correct_scores)))"
   ]
  },
  {
   "cell_type": "markdown",
   "metadata": {},
   "source": [
    "# Forward pass: compute loss\n",
    "In the same function, implement the second part that computes the data and regularization loss."
   ]
  },
  {
   "cell_type": "code",
   "execution_count": 4,
   "metadata": {},
   "outputs": [
    {
     "name": "stdout",
     "output_type": "stream",
     "text": [
      "Difference between your loss and correct loss:\n",
      "1.7985612998927536e-13\n"
     ]
    }
   ],
   "source": [
    "loss, _ = net.loss(X, y, reg=0.05)\n",
    "correct_loss = 1.30378789133\n",
    "\n",
    "# should be very small, we get < 1e-12\n",
    "print('Difference between your loss and correct loss:')\n",
    "print(np.sum(np.abs(loss - correct_loss)))"
   ]
  },
  {
   "cell_type": "markdown",
   "metadata": {},
   "source": [
    "# Backward pass\n",
    "Implement the rest of the function. This will compute the gradient of the loss with respect to the variables `W1`, `b1`, `W2`, and `b2`. Now that you (hopefully!) have a correctly implemented forward pass, you can debug your backward pass using a numeric gradient check:"
   ]
  },
  {
   "cell_type": "code",
   "execution_count": 5,
   "metadata": {},
   "outputs": [
    {
     "name": "stdout",
     "output_type": "stream",
     "text": [
      "[0. 0. 0. 0. 0. 0. 0. 0. 0. 0.]\n",
      "b1 max relative error: 1.555471e-09\n",
      "[0. 0. 0.]\n",
      "b2 max relative error: 3.865091e-11\n",
      "[[ 0.17640523  0.04001572  0.0978738   0.22408932  0.1867558  -0.09772779\n",
      "   0.09500884 -0.01513572 -0.01032189  0.04105985]\n",
      " [ 0.01440436  0.14542735  0.07610377  0.0121675   0.04438632  0.03336743\n",
      "   0.14940791 -0.02051583  0.03130677 -0.08540957]\n",
      " [-0.25529898  0.06536186  0.08644362 -0.0742165   0.22697546 -0.14543657\n",
      "   0.00457585 -0.01871839  0.15327792  0.14693588]\n",
      " [ 0.01549474  0.03781625 -0.08877857 -0.19807965 -0.03479121  0.0156349\n",
      "   0.12302907  0.12023798 -0.03873268 -0.03023028]]\n",
      "W1 max relative error: 3.561318e-09\n",
      "[[-0.1048553  -0.14200179 -0.17062702]\n",
      " [ 0.19507754 -0.05096522 -0.04380743]\n",
      " [-0.12527954  0.07774904 -0.16138978]\n",
      " [-0.02127403 -0.08954666  0.03869025]\n",
      " [-0.05108051 -0.11806322 -0.00281822]\n",
      " [ 0.04283319  0.00665172  0.03024719]\n",
      " [-0.06343221 -0.03627412 -0.06724604]\n",
      " [-0.03595532 -0.08131463 -0.17262826]\n",
      " [ 0.01774261 -0.04017809 -0.16301983]\n",
      " [ 0.04627823 -0.09072984  0.00519454]]\n",
      "W2 max relative error: 3.440708e-09\n"
     ]
    }
   ],
   "source": [
    "from cs231n.gradient_check import eval_numerical_gradient\n",
    "\n",
    "# Use numeric gradient checking to check your implementation of the backward pass.\n",
    "# If your implementation is correct, the difference between the numeric and\n",
    "# analytic gradients should be less than 1e-8 for each of W1, W2, b1, and b2.\n",
    "\n",
    "loss, grads = net.loss(X, y, reg=0.05)\n",
    "\n",
    "# these should all be less than 1e-8 or so\n",
    "for param_name in grads:\n",
    "    f = lambda W: net.loss(X, y, reg=0.05)[0]\n",
    "    print(net.params[param_name])\n",
    "    param_grad_num = eval_numerical_gradient(f, net.params[param_name], verbose=False)\n",
    "    print('%s max relative error: %e' % (param_name, rel_error(param_grad_num, grads[param_name])))"
   ]
  },
  {
   "cell_type": "markdown",
   "metadata": {},
   "source": [
    "# Train the network\n",
    "To train the network we will use stochastic gradient descent (SGD), similar to the SVM and Softmax classifiers. Look at the function `TwoLayerNet.train` and fill in the missing sections to implement the training procedure. This should be very similar to the training procedure you used for the SVM and Softmax classifiers. You will also have to implement `TwoLayerNet.predict`, as the training process periodically performs prediction to keep track of accuracy over time while the network trains.\n",
    "\n",
    "Once you have implemented the method, run the code below to train a two-layer network on toy data. You should achieve a training loss less than 0.02."
   ]
  },
  {
   "cell_type": "code",
   "execution_count": 6,
   "metadata": {},
   "outputs": [
    {
     "name": "stdout",
     "output_type": "stream",
     "text": [
      "[[ 16.24345364  -6.11756414  -5.28171752 -10.72968622]\n",
      " [  8.65407629 -23.01538697  17.44811764  -7.61206901]\n",
      " [  3.19039096  -2.49370375  14.62107937 -20.60140709]\n",
      " [ -3.22417204  -3.84054355  11.33769442 -10.99891267]\n",
      " [ -1.72428208  -8.77858418   0.42213747   5.82815214]]\n",
      "[0 1 2 2 1]\n",
      "Final training loss:  0.017149607938732093\n"
     ]
    },
    {
     "data": {
      "image/png": "[encoded data removed]",
      "text/plain": [
       "<Figure size 432x288 with 1 Axes>"
      ]
     },
     "metadata": {
      "needs_background": "light"
     },
     "output_type": "display_data"
    }
   ],
   "source": [
    "net = init_toy_model()\n",
    "print(X)\n",
    "print(y)\n",
    "stats = net.train(X, y, X, y,\n",
    "            learning_rate=1e-1, reg=5e-6,\n",
    "            num_iters=100, verbose=False)\n",
    "\n",
    "print('Final training loss: ', stats['loss_history'][-1])\n",
    "\n",
    "# plot the loss history\n",
    "plt.plot(stats['loss_history'])\n",
    "plt.xlabel('iteration')\n",
    "plt.ylabel('training loss')\n",
    "plt.title('Training Loss history')\n",
    "plt.show()"
   ]
  },
  {
   "cell_type": "markdown",
   "metadata": {},
   "source": [
    "# Load the data\n",
    "Now that you have implemented a two-layer network that passes gradient checks and works on toy data, it's time to load up our favorite CIFAR-10 data so we can use it to train a classifier on a real dataset."
   ]
  },
  {
   "cell_type": "code",
   "execution_count": 7,
   "metadata": {
    "tags": [
     "pdf-ignore"
    ]
   },
   "outputs": [
    {
     "name": "stdout",
     "output_type": "stream",
     "text": [
      "Train data shape:  (49000, 3072)\n",
      "Train labels shape:  (49000,)\n",
      "Validation data shape:  (1000, 3072)\n",
      "Validation labels shape:  (1000,)\n",
      "Test data shape:  (1000, 3072)\n",
      "Test labels shape:  (1000,)\n"
     ]
    }
   ],
   "source": [
    "from cs231n.data_utils import load_CIFAR10\n",
    "\n",
    "def get_CIFAR10_data(num_training=49000, num_validation=1000, num_test=1000):\n",
    "    \"\"\"\n",
    "    Load the CIFAR-10 dataset from disk and perform preprocessing to prepare\n",
    "    it for the two-layer neural net classifier. These are the same steps as\n",
    "    we used for the SVM, but condensed to a single function.  \n",
    "    \"\"\"\n",
    "    # Load the raw CIFAR-10 data\n",
    "    cifar10_dir = 'cs231n/datasets/cifar-10-batches-py'\n",
    "    \n",
    "    # Cleaning up variables to prevent loading data multiple times (which may cause memory issue)\n",
    "    try:\n",
    "       del X_train, y_train\n",
    "       del X_test, y_test\n",
    "       print('Clear previously loaded data.')\n",
    "    except:\n",
    "       pass\n",
    "\n",
    "    X_train, y_train, X_test, y_test = load_CIFAR10(cifar10_dir)\n",
    "        \n",
    "    # Subsample the data\n",
    "    mask = list(range(num_training, num_training + num_validation))\n",
    "    X_val = X_train[mask]\n",
    "    y_val = y_train[mask]\n",
    "    mask = list(range(num_training))\n",
    "    X_train = X_train[mask]\n",
    "    y_train = y_train[mask]\n",
    "    mask = list(range(num_test))\n",
    "    X_test = X_test[mask]\n",
    "    y_test = y_test[mask]\n",
    "\n",
    "    # Normalize the data: subtract the mean image\n",
    "    mean_image = np.mean(X_train, axis=0)\n",
    "    X_train -= mean_image\n",
    "    X_val -= mean_image\n",
    "    X_test -= mean_image\n",
    "\n",
    "    # Reshape data to rows\n",
    "    X_train = X_train.reshape(num_training, -1)\n",
    "    X_val = X_val.reshape(num_validation, -1)\n",
    "    X_test = X_test.reshape(num_test, -1)\n",
    "\n",
    "    return X_train, y_train, X_val, y_val, X_test, y_test\n",
    "\n",
    "\n",
    "# Invoke the above function to get our data.\n",
    "X_train, y_train, X_val, y_val, X_test, y_test = get_CIFAR10_data()\n",
    "print('Train data shape: ', X_train.shape)\n",
    "print('Train labels shape: ', y_train.shape)\n",
    "print('Validation data shape: ', X_val.shape)\n",
    "print('Validation labels shape: ', y_val.shape)\n",
    "print('Test data shape: ', X_test.shape)\n",
    "print('Test labels shape: ', y_test.shape)"
   ]
  },
  {
   "cell_type": "markdown",
   "metadata": {},
   "source": [
    "# Train a network\n",
    "To train our network we will use SGD. In addition, we will adjust the learning rate with an exponential learning rate schedule as optimization proceeds; after each epoch, we will reduce the learning rate by multiplying it by a decay rate."
   ]
  },
  {
   "cell_type": "code",
   "execution_count": 8,
   "metadata": {
    "tags": [
     "code"
    ]
   },
   "outputs": [
    {
     "name": "stdout",
     "output_type": "stream",
     "text": [
      "iteration 0 / 1000: loss 2.302954\n",
      "iteration 100 / 1000: loss 2.302550\n",
      "iteration 200 / 1000: loss 2.297648\n",
      "iteration 300 / 1000: loss 2.259602\n",
      "iteration 400 / 1000: loss 2.204170\n",
      "iteration 500 / 1000: loss 2.118565\n",
      "iteration 600 / 1000: loss 2.051535\n",
      "iteration 700 / 1000: loss 1.988466\n",
      "iteration 800 / 1000: loss 2.006591\n",
      "iteration 900 / 1000: loss 1.951473\n",
      "Validation accuracy:  0.287\n"
     ]
    }
   ],
   "source": [
    "input_size = 32 * 32 * 3\n",
    "hidden_size = 50\n",
    "num_classes = 10\n",
    "net = TwoLayerNet(input_size, hidden_size, num_classes)\n",
    "\n",
    "# Train the network\n",
    "stats = net.train(X_train, y_train, X_val, y_val,\n",
    "            num_iters=1000, batch_size=200,\n",
    "            learning_rate=1e-4, learning_rate_decay=0.95,\n",
    "            reg=0.25, verbose=True)\n",
    "\n",
    "# Predict on the validation set\n",
    "val_acc = (net.predict(X_val) == y_val).mean()\n",
    "print('Validation accuracy: ', val_acc)\n"
   ]
  },
  {
   "cell_type": "markdown",
   "metadata": {},
   "source": [
    "# Debug the training\n",
    "With the default parameters we provided above, you should get a validation accuracy of about 0.29 on the validation set. This isn't very good.\n",
    "\n",
    "One strategy for getting insight into what's wrong is to plot the loss function and the accuracies on the training and validation sets during optimization.\n",
    "\n",
    "Another strategy is to visualize the weights that were learned in the first layer of the network. In most neural networks trained on visual data, the first layer weights typically show some visible structure when visualized."
   ]
  },
  {
   "cell_type": "code",
   "execution_count": 9,
   "metadata": {},
   "outputs": [
    {
     "data": {
      "image/png": "[encoded data removed]",
      "text/plain": [
       "<Figure size 432x288 with 2 Axes>"
      ]
     },
     "metadata": {
      "needs_background": "light"
     },
     "output_type": "display_data"
    }
   ],
   "source": [
    "# Plot the loss function and train / validation accuracies\n",
    "plt.subplot(2, 1, 1)\n",
    "plt.plot(stats['loss_history'])\n",
    "plt.title('Loss history')\n",
    "plt.xlabel('Iteration')\n",
    "plt.ylabel('Loss')\n",
    "\n",
    "plt.subplot(2, 1, 2)\n",
    "plt.plot(stats['train_acc_history'], label='train')\n",
    "plt.plot(stats['val_acc_history'], label='val')\n",
    "plt.title('Classification accuracy history')\n",
    "plt.xlabel('Epoch')\n",
    "plt.ylabel('Classification accuracy')\n",
    "plt.legend()\n",
    "plt.show()"
   ]
  },
  {
   "cell_type": "code",
   "execution_count": 10,
   "metadata": {},
   "outputs": [
    {
     "name": "stdout",
     "output_type": "stream",
     "text": [
      "(50, 32, 32, 3)\n"
     ]
    },
    {
     "data": {
      "image/png": "[encoded data removed]",
      "text/plain": [
       "<Figure size 432x288 with 1 Axes>"
      ]
     },
     "metadata": {
      "needs_background": "light"
     },
     "output_type": "display_data"
    }
   ],
   "source": [
    "from cs231n.vis_utils import visualize_grid\n",
    "\n",
    "# Visualize the weights of the network\n",
    "\n",
    "def show_net_weights(net):\n",
    "    W1 = net.params['W1']\n",
    "    W1 = W1.reshape(32, 32, 3, -1).transpose(3, 0, 1, 2)\n",
    "    print(W1.shape)\n",
    "    W1 = W1[:1]\n",
    "    plt.imshow(visualize_grid(W1, padding=3).astype('uint8'))\n",
    "    plt.gca().axis('off')\n",
    "    plt.show()\n",
    "\n",
    "show_net_weights(net)"
   ]
  },
  {
   "cell_type": "markdown",
   "metadata": {},
   "source": [
    "# Tune your hyperparameters\n",
    "\n",
    "**What's wrong?**. Looking at the visualizations above, we see that the loss is decreasing more or less linearly, which seems to suggest that the learning rate may be too low. Moreover, there is no gap between the training and validation accuracy, suggesting that the model we used has low capacity, and that we should increase its size. On the other hand, with a very large model we would expect to see more overfitting, which would manifest itself as a very large gap between the training and validation accuracy.\n",
    "\n",
    "**Tuning**. Tuning the hyperparameters and developing intuition for how they affect the final performance is a large part of using Neural Networks, so we want you to get a lot of practice. Below, you should experiment with different values of the various hyperparameters, including hidden layer size, learning rate, numer of training epochs, and regularization strength. You might also consider tuning the learning rate decay, but you should be able to get good performance using the default value.\n",
    "\n",
    "**Approximate results**. You should be aim to achieve a classification accuracy of greater than 48% on the validation set. Our best network gets over 52% on the validation set.\n",
    "\n",
    "**Experiment**: You goal in this exercise is to get as good of a result on CIFAR-10 as you can (52% could serve as a reference), with a fully-connected Neural Network. Feel free implement your own techniques (e.g. PCA to reduce dimensionality, or adding dropout, or adding features to the solver, etc.)."
   ]
  },
  {
   "cell_type": "markdown",
   "metadata": {
    "tags": [
     "pdf-inline"
    ]
   },
   "source": [
    "**Explain your hyperparameter tuning process below.**\n",
    "\n",
    "$\\color{blue}{\\textit Your Answer:}$"
   ]
  },
  {
   "cell_type": "code",
   "execution_count": 11,
   "metadata": {
    "tags": [
     "code"
    ]
   },
   "outputs": [
    {
     "name": "stdout",
     "output_type": "stream",
     "text": [
      "iteration 0 / 1000: loss 2.305606\n",
      "iteration 100 / 1000: loss 1.816118\n",
      "iteration 200 / 1000: loss 1.806770\n",
      "iteration 300 / 1000: loss 1.630544\n",
      "iteration 400 / 1000: loss 1.636203\n",
      "iteration 500 / 1000: loss 1.536805\n",
      "iteration 600 / 1000: loss 1.454622\n",
      "iteration 700 / 1000: loss 1.551031\n",
      "iteration 800 / 1000: loss 1.581442\n",
      "iteration 900 / 1000: loss 1.450029\n",
      "iteration 0 / 1000: loss 2.306877\n",
      "iteration 100 / 1000: loss 1.972499\n",
      "iteration 200 / 1000: loss 1.700483\n",
      "iteration 300 / 1000: loss 1.681333\n",
      "iteration 400 / 1000: loss 1.720274\n",
      "iteration 500 / 1000: loss 1.578660\n",
      "iteration 600 / 1000: loss 1.590368\n",
      "iteration 700 / 1000: loss 1.632001\n",
      "iteration 800 / 1000: loss 1.563241\n",
      "iteration 900 / 1000: loss 1.559872\n",
      "iteration 0 / 1000: loss 2.308174\n",
      "iteration 100 / 1000: loss 1.949383\n",
      "iteration 200 / 1000: loss 1.772976\n",
      "iteration 300 / 1000: loss 1.801921\n",
      "iteration 400 / 1000: loss 1.608897\n",
      "iteration 500 / 1000: loss 1.600966\n",
      "iteration 600 / 1000: loss 1.675986\n",
      "iteration 700 / 1000: loss 1.648016\n",
      "iteration 800 / 1000: loss 1.560353\n",
      "iteration 900 / 1000: loss 1.669245\n",
      "iteration 0 / 1000: loss 2.309400\n",
      "iteration 100 / 1000: loss 1.873604\n",
      "iteration 200 / 1000: loss 1.816869\n",
      "iteration 300 / 1000: loss 1.668462\n",
      "iteration 400 / 1000: loss 1.695208\n",
      "iteration 500 / 1000: loss 1.612177\n",
      "iteration 600 / 1000: loss 1.613661\n",
      "iteration 700 / 1000: loss 1.602404\n",
      "iteration 800 / 1000: loss 1.541935\n",
      "iteration 900 / 1000: loss 1.500467\n",
      "iteration 0 / 1000: loss 2.306464\n",
      "iteration 100 / 1000: loss 1.863480\n",
      "iteration 200 / 1000: loss 1.843776\n",
      "iteration 300 / 1000: loss 1.672779\n",
      "iteration 400 / 1000: loss 1.586190\n",
      "iteration 500 / 1000: loss 1.549547\n",
      "iteration 600 / 1000: loss 1.557011\n",
      "iteration 700 / 1000: loss 1.477798\n",
      "iteration 800 / 1000: loss 1.484005\n",
      "iteration 900 / 1000: loss 1.388469\n",
      "iteration 0 / 1000: loss 2.308019\n",
      "iteration 100 / 1000: loss 1.941720\n",
      "iteration 200 / 1000: loss 1.753722\n",
      "iteration 300 / 1000: loss 1.735880\n",
      "iteration 400 / 1000: loss 1.598967\n",
      "iteration 500 / 1000: loss 1.716647\n",
      "iteration 600 / 1000: loss 1.550160\n",
      "iteration 700 / 1000: loss 1.627504\n",
      "iteration 800 / 1000: loss 1.630667\n",
      "iteration 900 / 1000: loss 1.516521\n",
      "iteration 0 / 1000: loss 2.309481\n",
      "iteration 100 / 1000: loss 1.850553\n",
      "iteration 200 / 1000: loss 1.740660\n",
      "iteration 300 / 1000: loss 1.723263\n",
      "iteration 400 / 1000: loss 1.788931\n",
      "iteration 500 / 1000: loss 1.533866\n",
      "iteration 600 / 1000: loss 1.706980\n",
      "iteration 700 / 1000: loss 1.440617\n",
      "iteration 800 / 1000: loss 1.563564\n",
      "iteration 900 / 1000: loss 1.361897\n",
      "iteration 0 / 1000: loss 2.310983\n",
      "iteration 100 / 1000: loss 1.865304\n",
      "iteration 200 / 1000: loss 1.802200\n",
      "iteration 300 / 1000: loss 1.685495\n",
      "iteration 400 / 1000: loss 1.723383\n",
      "iteration 500 / 1000: loss 1.652730\n",
      "iteration 600 / 1000: loss 1.607480\n",
      "iteration 700 / 1000: loss 1.617148\n",
      "iteration 800 / 1000: loss 1.662655\n",
      "iteration 900 / 1000: loss 1.493186\n",
      "iteration 0 / 1000: loss 2.305676\n",
      "iteration 100 / 1000: loss 1.930197\n",
      "iteration 200 / 1000: loss 1.777593\n",
      "iteration 300 / 1000: loss 1.652123\n",
      "iteration 400 / 1000: loss 1.604395\n",
      "iteration 500 / 1000: loss 1.659331\n",
      "iteration 600 / 1000: loss 1.470116\n",
      "iteration 700 / 1000: loss 1.602544\n",
      "iteration 800 / 1000: loss 1.618211\n",
      "iteration 900 / 1000: loss 1.533551\n",
      "iteration 0 / 1000: loss 2.306902\n",
      "iteration 100 / 1000: loss 1.895271\n",
      "iteration 200 / 1000: loss 1.872900\n",
      "iteration 300 / 1000: loss 1.633592\n",
      "iteration 400 / 1000: loss 1.593828\n",
      "iteration 500 / 1000: loss 1.618810\n",
      "iteration 600 / 1000: loss 1.706378\n",
      "iteration 700 / 1000: loss 1.535215\n",
      "iteration 800 / 1000: loss 1.614903\n",
      "iteration 900 / 1000: loss 1.576687\n",
      "iteration 0 / 1000: loss 2.308170\n",
      "iteration 100 / 1000: loss 1.853582\n",
      "iteration 200 / 1000: loss 1.840343\n",
      "iteration 300 / 1000: loss 1.694937\n",
      "iteration 400 / 1000: loss 1.682162\n",
      "iteration 500 / 1000: loss 1.717085\n",
      "iteration 600 / 1000: loss 1.647665\n",
      "iteration 700 / 1000: loss 1.634709\n",
      "iteration 800 / 1000: loss 1.542922\n",
      "iteration 900 / 1000: loss 1.481583\n",
      "iteration 0 / 1000: loss 2.309379\n",
      "iteration 100 / 1000: loss 1.835528\n",
      "iteration 200 / 1000: loss 1.739366\n",
      "iteration 300 / 1000: loss 1.740258\n",
      "iteration 400 / 1000: loss 1.676463\n",
      "iteration 500 / 1000: loss 1.726303\n",
      "iteration 600 / 1000: loss 1.567320\n",
      "iteration 700 / 1000: loss 1.561173\n",
      "iteration 800 / 1000: loss 1.608463\n",
      "iteration 900 / 1000: loss 1.580412\n",
      "iteration 0 / 1000: loss 2.306490\n",
      "iteration 100 / 1000: loss 1.818951\n",
      "iteration 200 / 1000: loss 1.787690\n",
      "iteration 300 / 1000: loss 1.678025\n",
      "iteration 400 / 1000: loss 1.659958\n",
      "iteration 500 / 1000: loss 1.529782\n",
      "iteration 600 / 1000: loss 1.558823\n",
      "iteration 700 / 1000: loss 1.456581\n",
      "iteration 800 / 1000: loss 1.550563\n",
      "iteration 900 / 1000: loss 1.444530\n",
      "iteration 0 / 1000: loss 2.308002\n",
      "iteration 100 / 1000: loss 1.972208\n",
      "iteration 200 / 1000: loss 1.736854\n",
      "iteration 300 / 1000: loss 1.724006\n",
      "iteration 400 / 1000: loss 1.660112\n",
      "iteration 500 / 1000: loss 1.634328\n",
      "iteration 600 / 1000: loss 1.681361\n",
      "iteration 700 / 1000: loss 1.531861\n",
      "iteration 800 / 1000: loss 1.546731\n",
      "iteration 900 / 1000: loss 1.551082\n",
      "iteration 0 / 1000: loss 2.309578\n",
      "iteration 100 / 1000: loss 1.929845\n",
      "iteration 200 / 1000: loss 1.872202\n",
      "iteration 300 / 1000: loss 1.791224\n",
      "iteration 400 / 1000: loss 1.629550\n",
      "iteration 500 / 1000: loss 1.557052\n",
      "iteration 600 / 1000: loss 1.672126\n",
      "iteration 700 / 1000: loss 1.585790\n",
      "iteration 800 / 1000: loss 1.580204\n",
      "iteration 900 / 1000: loss 1.457031\n",
      "iteration 0 / 1000: loss 2.311006\n",
      "iteration 100 / 1000: loss 1.893009\n",
      "iteration 200 / 1000: loss 1.845415\n",
      "iteration 300 / 1000: loss 1.766710\n",
      "iteration 400 / 1000: loss 1.618075\n",
      "iteration 500 / 1000: loss 1.664348\n",
      "iteration 600 / 1000: loss 1.603614\n",
      "iteration 700 / 1000: loss 1.672662\n",
      "iteration 800 / 1000: loss 1.510359\n",
      "iteration 900 / 1000: loss 1.497887\n",
      "iteration 0 / 1000: loss 2.305784\n",
      "iteration 100 / 1000: loss 1.855374\n",
      "iteration 200 / 1000: loss 1.719904\n",
      "iteration 300 / 1000: loss 1.592049\n",
      "iteration 400 / 1000: loss 1.673573\n",
      "iteration 500 / 1000: loss 1.437265\n",
      "iteration 600 / 1000: loss 1.579734\n",
      "iteration 700 / 1000: loss 1.515770\n",
      "iteration 800 / 1000: loss 1.466194\n",
      "iteration 900 / 1000: loss 1.425334\n",
      "iteration 0 / 1000: loss 2.306881\n",
      "iteration 100 / 1000: loss 1.863540\n",
      "iteration 200 / 1000: loss 1.825327\n",
      "iteration 300 / 1000: loss 1.737446\n",
      "iteration 400 / 1000: loss 1.727809\n",
      "iteration 500 / 1000: loss 1.577924\n",
      "iteration 600 / 1000: loss 1.705122\n",
      "iteration 700 / 1000: loss 1.487685\n",
      "iteration 800 / 1000: loss 1.525109\n",
      "iteration 900 / 1000: loss 1.469943\n",
      "iteration 0 / 1000: loss 2.308150\n",
      "iteration 100 / 1000: loss 1.818999\n",
      "iteration 200 / 1000: loss 1.667180\n",
      "iteration 300 / 1000: loss 1.790789\n",
      "iteration 400 / 1000: loss 1.639566\n",
      "iteration 500 / 1000: loss 1.826676\n",
      "iteration 600 / 1000: loss 1.569916\n",
      "iteration 700 / 1000: loss 1.526139\n",
      "iteration 800 / 1000: loss 1.590345\n",
      "iteration 900 / 1000: loss 1.457258\n",
      "iteration 0 / 1000: loss 2.309337\n",
      "iteration 100 / 1000: loss 1.925723\n",
      "iteration 200 / 1000: loss 1.812665\n",
      "iteration 300 / 1000: loss 1.716359\n",
      "iteration 400 / 1000: loss 1.637823\n",
      "iteration 500 / 1000: loss 1.615113\n",
      "iteration 600 / 1000: loss 1.545436\n",
      "iteration 700 / 1000: loss 1.656586\n",
      "iteration 800 / 1000: loss 1.565047\n",
      "iteration 900 / 1000: loss 1.580041\n",
      "iteration 0 / 1000: loss 2.306396\n",
      "iteration 100 / 1000: loss 1.851884\n",
      "iteration 200 / 1000: loss 1.660875\n",
      "iteration 300 / 1000: loss 1.628572\n",
      "iteration 400 / 1000: loss 1.725969\n",
      "iteration 500 / 1000: loss 1.507429\n",
      "iteration 600 / 1000: loss 1.531388\n",
      "iteration 700 / 1000: loss 1.540374\n",
      "iteration 800 / 1000: loss 1.410675\n",
      "iteration 900 / 1000: loss 1.385194\n",
      "iteration 0 / 1000: loss 2.307905\n",
      "iteration 100 / 1000: loss 1.890262\n",
      "iteration 200 / 1000: loss 1.656366\n",
      "iteration 300 / 1000: loss 1.584804\n",
      "iteration 400 / 1000: loss 1.645332\n",
      "iteration 500 / 1000: loss 1.509278\n",
      "iteration 600 / 1000: loss 1.542177\n",
      "iteration 700 / 1000: loss 1.623618\n",
      "iteration 800 / 1000: loss 1.554770\n",
      "iteration 900 / 1000: loss 1.546193\n",
      "iteration 0 / 1000: loss 2.309446\n",
      "iteration 100 / 1000: loss 1.878704\n",
      "iteration 200 / 1000: loss 1.719209\n",
      "iteration 300 / 1000: loss 1.634722\n",
      "iteration 400 / 1000: loss 1.643099\n",
      "iteration 500 / 1000: loss 1.593107\n",
      "iteration 600 / 1000: loss 1.392337\n",
      "iteration 700 / 1000: loss 1.628071\n",
      "iteration 800 / 1000: loss 1.610177\n"
     ]
    },
    {
     "name": "stdout",
     "output_type": "stream",
     "text": [
      "iteration 900 / 1000: loss 1.464054\n",
      "iteration 0 / 1000: loss 2.311019\n",
      "iteration 100 / 1000: loss 1.868753\n",
      "iteration 200 / 1000: loss 1.858079\n",
      "iteration 300 / 1000: loss 1.664620\n",
      "iteration 400 / 1000: loss 1.674487\n",
      "iteration 500 / 1000: loss 1.615921\n",
      "iteration 600 / 1000: loss 1.585198\n",
      "iteration 700 / 1000: loss 1.540819\n",
      "iteration 800 / 1000: loss 1.501503\n",
      "iteration 900 / 1000: loss 1.610650\n",
      "best validation accuracy achieved during cross-validation: 0.500000\n",
      "best learning rate, hidden size and regualization: 1.100000e-03, 500, 0.350000\n"
     ]
    }
   ],
   "source": [
    "best_net = None # store the best model into this \n",
    "\n",
    "#################################################################################\n",
    "# TODO: Tune hyperparameters using the validation set. Store your best trained  #\n",
    "# model in best_net.                                                            #\n",
    "#                                                                               #\n",
    "# To help debug your network, it may help to use visualizations similar to the  #\n",
    "# ones we used above; these visualizations will have significant qualitative    #\n",
    "# differences from the ones we saw above for the poorly tuned network.          #\n",
    "#                                                                               #\n",
    "# Tweaking hyperparameters by hand can be fun, but you might find it useful to  #\n",
    "# write code to sweep through possible combinations of hyperparameters          #\n",
    "# automatically like we did on the previous exercises.                          #\n",
    "#################################################################################\n",
    "# *****START OF YOUR CODE (DO NOT DELETE/MODIFY THIS LINE)*****\n",
    "\n",
    "best_stats = None\n",
    "best_val = -1\n",
    "best_lr, best_hs, best_rs = None, None, None\n",
    "learning_rates = [9e-4, 1.1e-3]\n",
    "hidden_sizes = [400, 600]\n",
    "regualization_stengths = [0.25, 0.6]\n",
    "\n",
    "for lr in np.arange(learning_rates[0], learning_rates[1], 1e-4):\n",
    "    for hs in np.arange(hidden_sizes[0], hidden_sizes[1], 100):\n",
    "        for rs in np.arange(regualization_stengths[0], regualization_stengths[1], 0.1):\n",
    "            net = TwoLayerNet(input_size, hs, num_classes)\n",
    "            stats = net.train(X_train, y_train, X_val, y_val,\n",
    "                num_iters=1000, batch_size=200,\n",
    "                learning_rate=lr, learning_rate_decay=0.95,\n",
    "                reg=rs, verbose=True)\n",
    "            y_train_pred = net.predict(X_train)\n",
    "            y_val_pred = net.predict(X_val)\n",
    "            train_accuracy = np.mean(y_train_pred == y_train)\n",
    "            val_accuracy = np.mean(y_val_pred == y_val)\n",
    "            if val_accuracy > best_val:\n",
    "                best_net = net\n",
    "                best_val = val_accuracy\n",
    "                best_stats = stats\n",
    "                best_lr = lr\n",
    "                best_hs = hs\n",
    "                best_rs = rs\n",
    "\n",
    "# Print out results.\n",
    "\n",
    "print('best validation accuracy achieved during cross-validation: %f' % best_val)\n",
    "print('best learning rate, hidden size and regualization: %e, %d, %f' % (best_lr, best_hs, best_rs))\n",
    "# *****END OF YOUR CODE (DO NOT DELETE/MODIFY THIS LINE)*****\n"
   ]
  },
  {
   "cell_type": "code",
   "execution_count": 12,
   "metadata": {},
   "outputs": [
    {
     "name": "stdout",
     "output_type": "stream",
     "text": [
      "(500, 32, 32, 3)\n"
     ]
    },
    {
     "data": {
      "image/png": "[encoded data removed]",
      "text/plain": [
       "<Figure size 432x288 with 1 Axes>"
      ]
     },
     "metadata": {
      "needs_background": "light"
     },
     "output_type": "display_data"
    }
   ],
   "source": [
    "# visualize the weights of the best network\n",
    "show_net_weights(best_net)"
   ]
  },
  {
   "cell_type": "code",
   "execution_count": 13,
   "metadata": {},
   "outputs": [
    {
     "data": {
      "image/png": "[encoded data removed]",
      "text/plain": [
       "<Figure size 432x288 with 2 Axes>"
      ]
     },
     "metadata": {
      "needs_background": "light"
     },
     "output_type": "display_data"
    }
   ],
   "source": [
    "# Plot the loss function and train / validation accuracies\n",
    "plt.subplot(2, 1, 1)\n",
    "plt.plot(best_stats['loss_history'])\n",
    "plt.title('Loss history')\n",
    "plt.xlabel('Iteration')\n",
    "plt.ylabel('Loss')\n",
    "\n",
    "plt.subplot(2, 1, 2)\n",
    "plt.plot(best_stats['train_acc_history'], label='train')\n",
    "plt.plot(best_stats['val_acc_history'], label='val')\n",
    "plt.title('Classification accuracy history')\n",
    "plt.xlabel('Epoch')\n",
    "plt.ylabel('Classification accuracy')\n",
    "plt.legend()\n",
    "plt.show()"
   ]
  },
  {
   "cell_type": "markdown",
   "metadata": {},
   "source": [
    "# Run on the test set\n",
    "When you are done experimenting, you should evaluate your final trained network on the test set; you should get above 48%."
   ]
  },
  {
   "cell_type": "code",
   "execution_count": 14,
   "metadata": {},
   "outputs": [
    {
     "name": "stdout",
     "output_type": "stream",
     "text": [
      "Test accuracy:  0.493\n"
     ]
    }
   ],
   "source": [
    "test_acc = (best_net.predict(X_test) == y_test).mean()\n",
    "print('Test accuracy: ', test_acc)"
   ]
  },
  {
   "cell_type": "markdown",
   "metadata": {
    "tags": [
     "pdf-inline"
    ]
   },
   "source": [
    "**Inline Question**\n",
    "\n",
    "Now that you have trained a Neural Network classifier, you may find that your testing accuracy is much lower than the training accuracy. In what ways can we decrease this gap? Select all that apply.\n",
    "\n",
    "1. Train on a larger dataset.\n",
    "2. Add more hidden units.\n",
    "3. Increase the regularization strength.\n",
    "4. None of the above.\n",
    "\n",
    "$\\color{blue}{\\textit Your Answer:}$\n",
    "\n",
    "$\\color{blue}{\\textit Your Explanation:}$\n",
    "\n"
   ]
  }
 ],
 "metadata": {
  "kernelspec": {
   "display_name": "Python 3",
   "language": "python",
   "name": "python3"
  },
  "language_info": {
   "codemirror_mode": {
    "name": "ipython",
    "version": 3
   },
   "file_extension": ".py",
   "mimetype": "text/x-python",
   "name": "python",
   "nbconvert_exporter": "python",
   "pygments_lexer": "ipython3",
   "version": "3.6.5"
  }
 },
 "nbformat": 4,
 "nbformat_minor": 1
}
